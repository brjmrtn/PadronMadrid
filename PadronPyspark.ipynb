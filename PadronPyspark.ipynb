{
 "cells": [
  {
   "cell_type": "code",
   "execution_count": 1,
   "id": "0addfd88",
   "metadata": {},
   "outputs": [],
   "source": [
    "# Importamos librerias\n",
    "import findspark\n",
    "findspark.init()\n",
    "import pyspark\n",
    "from pyspark.sql import window\n",
    "from pyspark.sql.functions import lit, trim, col, length, round\n",
    "\n",
    "# Creamos sesion\n",
    "from pyspark.sql import SparkSession\n",
    "spark = (SparkSession\n",
    "        .builder\n",
    "        .appName(\"Padron\")\n",
    "        .getOrCreate())"
   ]
  },
  {
   "cell_type": "code",
   "execution_count": 2,
   "id": "4a3ab995",
   "metadata": {},
   "outputs": [
    {
     "name": "stdout",
     "output_type": "stream",
     "text": [
      "+------------+-------------+---------------+-----------+----------+----------------+-----------+------------+----------------+----------------+------------------+------------------+\n",
      "|COD_DISTRITO|DESC_DISTRITO|COD_DIST_BARRIO|DESC_BARRIO|COD_BARRIO|COD_DIST_SECCION|COD_SECCION|COD_EDAD_INT|EspanolesHombres|EspanolesMujeres|ExtranjerosHombres|ExtranjerosMujeres|\n",
      "+------------+-------------+---------------+-----------+----------+----------------+-----------+------------+----------------+----------------+------------------+------------------+\n",
      "|           1|       CENTRO|            101|    PALACIO|         1|            1001|          1|           0|               2|               3|                 1|                 0|\n",
      "|           1|       CENTRO|            101|    PALACIO|         1|            1001|          1|           1|               7|               0|                 1|                 0|\n",
      "|           1|       CENTRO|            101|    PALACIO|         1|            1001|          1|           2|               2|               3|                 0|                 5|\n",
      "|           1|       CENTRO|            101|    PALACIO|         1|            1001|          1|           3|               3|               1|                 0|                 0|\n",
      "|           1|       CENTRO|            101|    PALACIO|         1|            1001|          1|           4|               2|               0|                 1|                 3|\n",
      "|           1|       CENTRO|            101|    PALACIO|         1|            1001|          1|           5|               2|               3|                 0|                 0|\n",
      "|           1|       CENTRO|            101|    PALACIO|         1|            1001|          1|           6|               1|               0|                 2|                 1|\n",
      "|           1|       CENTRO|            101|    PALACIO|         1|            1001|          1|           7|               1|               2|                 0|                 0|\n",
      "|           1|       CENTRO|            101|    PALACIO|         1|            1001|          1|           8|               3|               2|                 1|                 2|\n",
      "|           1|       CENTRO|            101|    PALACIO|         1|            1001|          1|           9|               3|               0|                 0|                 1|\n",
      "+------------+-------------+---------------+-----------+----------+----------------+-----------+------------+----------------+----------------+------------------+------------------+\n",
      "only showing top 10 rows\n",
      "\n"
     ]
    }
   ],
   "source": [
    "# Cargamos el csv con la estructura correcta, eliminando \"\", sustituyendo \"\" como nulos por 0 y quitando espacios innecesarios\n",
    "file = 'padron.csv'\n",
    "\n",
    "padron = (spark.read.format('csv')\n",
    "         .option('header', 'true')\n",
    "         .option('inferSchema', 'true')\n",
    "         .option('delimiter', ';')\n",
    "         .option('quotes', '\\\"')\n",
    "         .option('emptyValue', 0)\n",
    "         .load(file))\n",
    "# Para eliminar los espacios en blanco innecesarios:\n",
    "padron_df = padron.select([(trim(i[0])).alias(i[0]) if i[1] == \"string\" else i[0] for i in padron.select(\"*\").dtypes])\n",
    "\n",
    "\n",
    "padron_df.show(10)"
   ]
  },
  {
   "cell_type": "code",
   "execution_count": 3,
   "id": "1f15630c",
   "metadata": {},
   "outputs": [
    {
     "name": "stdout",
     "output_type": "stream",
     "text": [
      "+--------------------+\n",
      "|         DESC_BARRIO|\n",
      "+--------------------+\n",
      "|        VALDEFUENTES|\n",
      "|            ABRANTES|\n",
      "|       LOS JERONIMOS|\n",
      "|          NI�O JESUS|\n",
      "|            VALVERDE|\n",
      "|              CORTES|\n",
      "|   PALOMERAS SURESTE|\n",
      "|CIUDAD UNIVERSITARIA|\n",
      "|      CUATRO VIENTOS|\n",
      "|           TRAFALGAR|\n",
      "|              HELLIN|\n",
      "|    ALAMEDA DE OSUNA|\n",
      "|          PRADOLONGO|\n",
      "|            MOSCARDO|\n",
      "|          VALDEZARZA|\n",
      "|           RECOLETOS|\n",
      "|             HORCAJO|\n",
      "|        VISTA ALEGRE|\n",
      "|             EL VISO|\n",
      "|    PUERTA DEL ANGEL|\n",
      "+--------------------+\n",
      "only showing top 20 rows\n",
      "\n"
     ]
    }
   ],
   "source": [
    "# Enumerar los distintos barrios\n",
    "neighborhood = (padron_df.select('DESC_BARRIO')\n",
    "               .distinct())\n",
    "neighborhood.show()"
   ]
  },
  {
   "cell_type": "code",
   "execution_count": 4,
   "id": "3f8c5898",
   "metadata": {},
   "outputs": [
    {
     "name": "stdout",
     "output_type": "stream",
     "text": [
      "+-------------+\n",
      "|Total_Barrios|\n",
      "+-------------+\n",
      "|          131|\n",
      "+-------------+\n",
      "\n"
     ]
    }
   ],
   "source": [
    "# Contar a traves de las views, el número de barrios\n",
    "padron_df.createOrReplaceTempView('padron')\n",
    "\n",
    "spark.sql('select count(distinct DESC_BARRIO) AS Total_Barrios FROM padron').show()"
   ]
  },
  {
   "cell_type": "code",
   "execution_count": 5,
   "id": "3f8fa80d",
   "metadata": {},
   "outputs": [
    {
     "name": "stdout",
     "output_type": "stream",
     "text": [
      "+-------------------+--------+\n",
      "|      Desc_Distrito|Longitud|\n",
      "+-------------------+--------+\n",
      "|         ARGANZUELA|      10|\n",
      "|FUENCARRAL-EL PARDO|      19|\n",
      "|              USERA|       5|\n",
      "|          SALAMANCA|       9|\n",
      "| PUENTE DE VALLECAS|      18|\n",
      "|  VILLA DE VALLECAS|      17|\n",
      "|           CHAMBERI|       8|\n",
      "|          VICALVARO|       9|\n",
      "|             RETIRO|       6|\n",
      "|             CENTRO|       6|\n",
      "|SAN BLAS-CANILLEJAS|      19|\n",
      "|          CHAMARTIN|       9|\n",
      "|             LATINA|       6|\n",
      "|          MORATALAZ|       9|\n",
      "|            BARAJAS|       7|\n",
      "|             TETUAN|       6|\n",
      "|      CIUDAD LINEAL|      13|\n",
      "|          HORTALEZA|       9|\n",
      "|         VILLAVERDE|      10|\n",
      "|        CARABANCHEL|      11|\n",
      "+-------------------+--------+\n",
      "only showing top 20 rows\n",
      "\n"
     ]
    }
   ],
   "source": [
    "# Crea una nueva columna que muestre la longitud de los campos de la columna DESC_DISTRITO y que se llame \"longitud\"\n",
    "padron_lon = (padron_df\n",
    "                 .withColumn(\"Longitud\", length(col(\"DESC_DISTRITO\")))\n",
    "                 .select(\"Desc_Distrito\", \"Longitud\")\n",
    "                 .distinct()\n",
    "                 .show())"
   ]
  },
  {
   "cell_type": "code",
   "execution_count": 6,
   "id": "36dd7e5e",
   "metadata": {},
   "outputs": [
    {
     "name": "stdout",
     "output_type": "stream",
     "text": [
      "+-------------------+-----+\n",
      "|      DESC_DISTRITO|Cinco|\n",
      "+-------------------+-----+\n",
      "|          VICALVARO|    5|\n",
      "|             TETUAN|    5|\n",
      "|           CHAMBERI|    5|\n",
      "|             RETIRO|    5|\n",
      "|  VILLA DE VALLECAS|    5|\n",
      "|         VILLAVERDE|    5|\n",
      "|        CARABANCHEL|    5|\n",
      "|              USERA|    5|\n",
      "|            BARAJAS|    5|\n",
      "|          CHAMARTIN|    5|\n",
      "|    MONCLOA-ARAVACA|    5|\n",
      "|      CIUDAD LINEAL|    5|\n",
      "|          MORATALAZ|    5|\n",
      "|         ARGANZUELA|    5|\n",
      "|          SALAMANCA|    5|\n",
      "|          HORTALEZA|    5|\n",
      "|SAN BLAS-CANILLEJAS|    5|\n",
      "|             CENTRO|    5|\n",
      "|FUENCARRAL-EL PARDO|    5|\n",
      "| PUENTE DE VALLECAS|    5|\n",
      "+-------------------+-----+\n",
      "only showing top 20 rows\n",
      "\n"
     ]
    }
   ],
   "source": [
    "# Crear una columna que muestre el valor 5 para cada uno de los registro de la tabla\n",
    "padron5 = (padron_df\n",
    "          .withColumn('Cinco', lit('5'))\n",
    "          .select('DESC_DISTRITO', 'Cinco')\n",
    "          .distinct())\n",
    "padron5.show()"
   ]
  },
  {
   "cell_type": "code",
   "execution_count": 7,
   "id": "31fa526f",
   "metadata": {},
   "outputs": [
    {
     "name": "stdout",
     "output_type": "stream",
     "text": [
      "+-------------------+\n",
      "|      DESC_DISTRITO|\n",
      "+-------------------+\n",
      "|          VICALVARO|\n",
      "|             TETUAN|\n",
      "|           CHAMBERI|\n",
      "|             RETIRO|\n",
      "|  VILLA DE VALLECAS|\n",
      "|         VILLAVERDE|\n",
      "|        CARABANCHEL|\n",
      "|              USERA|\n",
      "|            BARAJAS|\n",
      "|          CHAMARTIN|\n",
      "|    MONCLOA-ARAVACA|\n",
      "|      CIUDAD LINEAL|\n",
      "|          MORATALAZ|\n",
      "|         ARGANZUELA|\n",
      "|          SALAMANCA|\n",
      "|          HORTALEZA|\n",
      "|SAN BLAS-CANILLEJAS|\n",
      "|             CENTRO|\n",
      "|FUENCARRAL-EL PARDO|\n",
      "| PUENTE DE VALLECAS|\n",
      "+-------------------+\n",
      "only showing top 20 rows\n",
      "\n"
     ]
    }
   ],
   "source": [
    "#Borra esta columna\n",
    "drop_cinco = padron5.drop('Cinco')\n",
    "drop_cinco.show()"
   ]
  },
  {
   "cell_type": "code",
   "execution_count": 8,
   "id": "ab64ea47",
   "metadata": {},
   "outputs": [],
   "source": [
    "# Particiona el dataframe por las variables DESC_DISTRITO y DESC_BARRIO\n",
    "partition = (padron_df\n",
    "            .repartition(col('DESC_BARRIO'), col('DESC_DISTRITO')))"
   ]
  },
  {
   "cell_type": "code",
   "execution_count": 9,
   "id": "114e2d73",
   "metadata": {},
   "outputs": [
    {
     "data": {
      "text/plain": [
       "238196"
      ]
     },
     "execution_count": 9,
     "metadata": {},
     "output_type": "execute_result"
    }
   ],
   "source": [
    "#Almacénalo en caché. Consulta en el puerto 4040 (UI de Spark) de tu usuario local el estado\n",
    "# de los rdds almacenados.\n",
    "partition.cache()\n",
    "partition.count()\n",
    "partition.count()"
   ]
  },
  {
   "cell_type": "code",
   "execution_count": 10,
   "id": "55a61f72",
   "metadata": {},
   "outputs": [
    {
     "name": "stdout",
     "output_type": "stream",
     "text": [
      "+-------------------+-----------------+---------------+---------------+-------------------+-------------------+\n",
      "|      DESC_DISTRITO|      DESC_BARRIO|Total Españoles|Total Españolas|Total Extranjeros H|Total Extranjeras F|\n",
      "+-------------------+-----------------+---------------+---------------+-------------------+-------------------+\n",
      "|         ARGANZUELA|          ACACIAS|          15399|          18073|               1355|               1507|\n",
      "|FUENCARRAL-EL PARDO|         VALVERDE|          26922|          29105|               3675|               4441|\n",
      "|FUENCARRAL-EL PARDO|   FUENTELARREINA|           1445|           1679|                 72|                171|\n",
      "|          MORATALAZ|          PAVONES|           3584|           4321|                419|                478|\n",
      "|FUENCARRAL-EL PARDO|        EL GOLOSO|           8947|           9076|                551|                630|\n",
      "|          HORTALEZA|         CANILLAS|          16770|          19155|               1764|               2248|\n",
      "|      CIUDAD LINEAL|SAN JUAN BAUTISTA|           5182|           5900|                620|                694|\n",
      "|          CHAMARTIN|      PROSPERIDAD|          14490|          17804|               1763|               2280|\n",
      "|         ARGANZUELA|          LEGAZPI|           8897|           9201|                736|                802|\n",
      "|      CIUDAD LINEAL|      COSTILLARES|           9778|          10908|                490|                711|\n",
      "|             LATINA| PUERTA DEL ANGEL|          15120|          17686|               4260|               4854|\n",
      "|           CHAMBERI|       GAZTAMBIDE|           8921|          11007|               1286|               1793|\n",
      "|             LATINA|       CAMPAMENTO|           7102|           8102|               1884|               2330|\n",
      "|        CARABANCHEL|       SAN ISIDRO|          14537|          16548|               4183|               4489|\n",
      "|          SALAMANCA|             GOYA|          10913|          13876|               2067|               2951|\n",
      "|             CENTRO|      UNIVERSIDAD|          12410|          12495|               4243|               4309|\n",
      "| PUENTE DE VALLECAS|         NUMANCIA|          17151|          19383|               5446|               5749|\n",
      "|             RETIRO|       NI�O JESUS|           6557|           7722|                356|                573|\n",
      "|          HORTALEZA|          PALOMAS|           3034|           3121|                374|                428|\n",
      "|             CENTRO|              SOL|           2872|           2595|               1427|               1402|\n",
      "+-------------------+-----------------+---------------+---------------+-------------------+-------------------+\n",
      "only showing top 20 rows\n",
      "\n"
     ]
    }
   ],
   "source": [
    "# Lanza una consulta contra el DF resultante en la que muestre el número total de \n",
    "#\"espanoleshombres\", \"espanolesmujeres\", extranjeroshombres\" y \"extranjerosmujeres\" \n",
    "#para cada barrio de cada distrito. Las columnas distrito y barrio deben ser las primeras en \n",
    "#aparecer en el show. Los resultados deben estar ordenados en orden de más a menos \n",
    "#según la columna \"extranjerosmujeres\" y desempatarán por la columna \n",
    "#\"extranjeroshombres\".\n",
    "(partition.select('DESC_DISTRITO', 'DESC_BARRIO', 'EspanolesHombres', 'EspanolesMujeres', 'ExtranjerosHombres', 'ExtranjerosMujeres')\n",
    "         .groupBy('DESC_DISTRITO', 'DESC_BARRIO')\n",
    "         .sum('EspanolesHombres', 'EspanolesMujeres', 'ExtranjerosHombres', 'ExtranjerosMujeres')\n",
    "         .withColumnRenamed('sum(EspanolesHombres)', 'Total Españoles')\n",
    "         .withColumnRenamed('sum(EspanolesMujeres)', 'Total Españolas')\n",
    "         .withColumnRenamed('sum(ExtranjerosHombres)', 'Total Extranjeros H')\n",
    "         .withColumnRenamed('sum(ExtranjerosMujeres)', 'Total Extranjeras F')\n",
    "         .show())\n",
    "        "
   ]
  },
  {
   "cell_type": "code",
   "execution_count": 11,
   "id": "ae4cc73f",
   "metadata": {},
   "outputs": [
    {
     "data": {
      "text/plain": [
       "DataFrame[COD_DISTRITO: int, DESC_DISTRITO: string, COD_DIST_BARRIO: int, DESC_BARRIO: string, COD_BARRIO: int, COD_DIST_SECCION: int, COD_SECCION: int, COD_EDAD_INT: int, EspanolesHombres: int, EspanolesMujeres: int, ExtranjerosHombres: int, ExtranjerosMujeres: int]"
      ]
     },
     "execution_count": 11,
     "metadata": {},
     "output_type": "execute_result"
    }
   ],
   "source": [
    "# Eliminar el registro caché\n",
    "partition.unpersist()"
   ]
  },
  {
   "cell_type": "code",
   "execution_count": 12,
   "id": "c65702d2",
   "metadata": {},
   "outputs": [
    {
     "name": "stdout",
     "output_type": "stream",
     "text": [
      "+-------------------+-----------------+---------+\n",
      "|           DISTRITO|           BARRIO|Españoles|\n",
      "+-------------------+-----------------+---------+\n",
      "|         ARGANZUELA|          ACACIAS|    15399|\n",
      "|FUENCARRAL-EL PARDO|         VALVERDE|    26922|\n",
      "|FUENCARRAL-EL PARDO|   FUENTELARREINA|     1445|\n",
      "|          MORATALAZ|          PAVONES|     3584|\n",
      "|FUENCARRAL-EL PARDO|        EL GOLOSO|     8947|\n",
      "|          HORTALEZA|         CANILLAS|    16770|\n",
      "|      CIUDAD LINEAL|SAN JUAN BAUTISTA|     5182|\n",
      "|          CHAMARTIN|      PROSPERIDAD|    14490|\n",
      "|      CIUDAD LINEAL|      COSTILLARES|     9778|\n",
      "|         ARGANZUELA|          LEGAZPI|     8897|\n",
      "|             LATINA|       CAMPAMENTO|     7102|\n",
      "|           CHAMBERI|       GAZTAMBIDE|     8921|\n",
      "|             LATINA| PUERTA DEL ANGEL|    15120|\n",
      "|        CARABANCHEL|       SAN ISIDRO|    14537|\n",
      "|          SALAMANCA|             GOYA|    10913|\n",
      "|             CENTRO|      UNIVERSIDAD|    12410|\n",
      "| PUENTE DE VALLECAS|         NUMANCIA|    17151|\n",
      "|             RETIRO|       NI�O JESUS|     6557|\n",
      "|          HORTALEZA|          PALOMAS|     3034|\n",
      "|             CENTRO|              SOL|     2872|\n",
      "+-------------------+-----------------+---------+\n",
      "only showing top 20 rows\n",
      "\n"
     ]
    }
   ],
   "source": [
    "#Crea un nuevo DataFrame a partir del original que muestre únicamente una columna con \n",
    "#DESC_BARRIO, otra con DESC_DISTRITO y otra con el número total de \"espanoleshombres\" \n",
    "#residentes en cada distrito de cada barrio. Únelo (con un join) con el DataFrame original a \n",
    "#través de las columnas en común.\n",
    "\n",
    "espanoles = (padron_df.select('DESC_BARRIO', 'DESC_DISTRITO', 'EspanolesHombres')\n",
    "                     .groupBy('DESC_BARRIO', 'DESC_DISTRITO')\n",
    "                     .sum('EspanolesHombres')\n",
    "                     .withColumnRenamed('sum(EspanolesHombres)', 'Españoles')\n",
    "                     .withColumnRenamed('DESC_BARRIO', 'BARRIO')\n",
    "                     .withColumnRenamed('DESC_DISTRITO', 'DISTRITO'))\n",
    "        \n",
    "(espanoles.join(padron_df,\n",
    "               (padron_df.DESC_BARRIO == espanoles.BARRIO) & \n",
    "               (padron_df.DESC_DISTRITO == espanoles.DISTRITO))\n",
    ".select('DISTRITO', 'BARRIO', 'Españoles')\n",
    ".distinct()\n",
    ".show())\n"
   ]
  },
  {
   "cell_type": "code",
   "execution_count": 13,
   "id": "e1809e9a",
   "metadata": {},
   "outputs": [],
   "source": [
    "# Repite la función anterior utilizando funciones de ventana. (over(Window.partitionBy.....)).\n"
   ]
  },
  {
   "cell_type": "code",
   "execution_count": null,
   "id": "98a70d9f",
   "metadata": {},
   "outputs": [],
   "source": []
  }
 ],
 "metadata": {
  "kernelspec": {
   "display_name": "Python 3",
   "language": "python",
   "name": "python3"
  },
  "language_info": {
   "codemirror_mode": {
    "name": "ipython",
    "version": 3
   },
   "file_extension": ".py",
   "mimetype": "text/x-python",
   "name": "python",
   "nbconvert_exporter": "python",
   "pygments_lexer": "ipython3",
   "version": "3.8.8"
  }
 },
 "nbformat": 4,
 "nbformat_minor": 5
}
